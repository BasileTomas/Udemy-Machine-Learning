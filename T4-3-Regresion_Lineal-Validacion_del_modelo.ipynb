{
 "cells": [
  {
   "cell_type": "markdown",
   "metadata": {},
   "source": [
    "## Dividir el dataset en conjuntos (entrenamiento y testing)"
   ]
  },
  {
   "cell_type": "code",
   "execution_count": 27,
   "metadata": {},
   "outputs": [],
   "source": [
    "import pandas as pd\n",
    "import numpy as np\n",
    "import matplotlib.pyplot as plt\n",
    "import statsmodels.formula.api as smf"
   ]
  },
  {
   "cell_type": "code",
   "execution_count": 2,
   "metadata": {},
   "outputs": [],
   "source": [
    "data = pd.read_csv(\"../python-ml-course/datasets/ads/Advertising.csv\")"
   ]
  },
  {
   "cell_type": "code",
   "execution_count": 3,
   "metadata": {},
   "outputs": [],
   "source": [
    "a = np.random.randn(len(data))"
   ]
  },
  {
   "cell_type": "code",
   "execution_count": 4,
   "metadata": {},
   "outputs": [
    {
     "data": {
      "text/plain": [
       "(array([ 5., 16., 18., 37., 39., 34., 30., 12.,  6.,  3.]),\n",
       " array([-2.2051537 , -1.71200217, -1.21885064, -0.7256991 , -0.23254757,\n",
       "         0.26060396,  0.75375549,  1.24690702,  1.74005856,  2.23321009,\n",
       "         2.72636162]),\n",
       " <a list of 10 Patch objects>)"
      ]
     },
     "execution_count": 4,
     "metadata": {},
     "output_type": "execute_result"
    },
    {
     "data": {
      "image/png": "[encoded data removed]",
      "text/plain": [
       "<Figure size 432x288 with 1 Axes>"
      ]
     },
     "metadata": {
      "needs_background": "light"
     },
     "output_type": "display_data"
    }
   ],
   "source": [
    "plt.hist(a)"
   ]
  },
  {
   "cell_type": "code",
   "execution_count": 5,
   "metadata": {},
   "outputs": [],
   "source": [
    "check = (a<0.8)\n",
    "training = data[check]\n",
    "testing = data[~check]"
   ]
  },
  {
   "cell_type": "code",
   "execution_count": 6,
   "metadata": {},
   "outputs": [
    {
     "data": {
      "text/plain": [
       "(155, 45)"
      ]
     },
     "execution_count": 6,
     "metadata": {},
     "output_type": "execute_result"
    }
   ],
   "source": [
    "len(training), len(testing)"
   ]
  },
  {
   "cell_type": "code",
   "execution_count": 7,
   "metadata": {},
   "outputs": [],
   "source": [
    "lm = smf.ols(formula = \"Sales~TV+Radio\", data = training).fit()"
   ]
  },
  {
   "cell_type": "code",
   "execution_count": 8,
   "metadata": {},
   "outputs": [
    {
     "data": {
      "text/html": [
       "<table class=\"simpletable\">\n",
       "<caption>OLS Regression Results</caption>\n",
       "<tr>\n",
       "  <th>Dep. Variable:</th>          <td>Sales</td>      <th>  R-squared:         </th> <td>   0.896</td>\n",
       "</tr>\n",
       "<tr>\n",
       "  <th>Model:</th>                   <td>OLS</td>       <th>  Adj. R-squared:    </th> <td>   0.894</td>\n",
       "</tr>\n",
       "<tr>\n",
       "  <th>Method:</th>             <td>Least Squares</td>  <th>  F-statistic:       </th> <td>   652.1</td>\n",
       "</tr>\n",
       "<tr>\n",
       "  <th>Date:</th>             <td>Wed, 15 May 2019</td> <th>  Prob (F-statistic):</th> <td>2.61e-75</td>\n",
       "</tr>\n",
       "<tr>\n",
       "  <th>Time:</th>                 <td>14:34:35</td>     <th>  Log-Likelihood:    </th> <td> -298.86</td>\n",
       "</tr>\n",
       "<tr>\n",
       "  <th>No. Observations:</th>      <td>   155</td>      <th>  AIC:               </th> <td>   603.7</td>\n",
       "</tr>\n",
       "<tr>\n",
       "  <th>Df Residuals:</th>          <td>   152</td>      <th>  BIC:               </th> <td>   612.9</td>\n",
       "</tr>\n",
       "<tr>\n",
       "  <th>Df Model:</th>              <td>     2</td>      <th>                     </th>     <td> </td>   \n",
       "</tr>\n",
       "<tr>\n",
       "  <th>Covariance Type:</th>      <td>nonrobust</td>    <th>                     </th>     <td> </td>   \n",
       "</tr>\n",
       "</table>\n",
       "<table class=\"simpletable\">\n",
       "<tr>\n",
       "      <td></td>         <th>coef</th>     <th>std err</th>      <th>t</th>      <th>P>|t|</th>  <th>[0.025</th>    <th>0.975]</th>  \n",
       "</tr>\n",
       "<tr>\n",
       "  <th>Intercept</th> <td>    2.9151</td> <td>    0.342</td> <td>    8.514</td> <td> 0.000</td> <td>    2.239</td> <td>    3.592</td>\n",
       "</tr>\n",
       "<tr>\n",
       "  <th>TV</th>        <td>    0.0451</td> <td>    0.002</td> <td>   28.136</td> <td> 0.000</td> <td>    0.042</td> <td>    0.048</td>\n",
       "</tr>\n",
       "<tr>\n",
       "  <th>Radio</th>     <td>    0.1922</td> <td>    0.009</td> <td>   20.884</td> <td> 0.000</td> <td>    0.174</td> <td>    0.210</td>\n",
       "</tr>\n",
       "</table>\n",
       "<table class=\"simpletable\">\n",
       "<tr>\n",
       "  <th>Omnibus:</th>       <td>65.651</td> <th>  Durbin-Watson:     </th> <td>   2.312</td>\n",
       "</tr>\n",
       "<tr>\n",
       "  <th>Prob(Omnibus):</th> <td> 0.000</td> <th>  Jarque-Bera (JB):  </th> <td> 228.456</td>\n",
       "</tr>\n",
       "<tr>\n",
       "  <th>Skew:</th>          <td>-1.624</td> <th>  Prob(JB):          </th> <td>2.46e-50</td>\n",
       "</tr>\n",
       "<tr>\n",
       "  <th>Kurtosis:</th>      <td> 7.982</td> <th>  Cond. No.          </th> <td>    444.</td>\n",
       "</tr>\n",
       "</table><br/><br/>Warnings:<br/>[1] Standard Errors assume that the covariance matrix of the errors is correctly specified."
      ],
      "text/plain": [
       "<class 'statsmodels.iolib.summary.Summary'>\n",
       "\"\"\"\n",
       "                            OLS Regression Results                            \n",
       "==============================================================================\n",
       "Dep. Variable:                  Sales   R-squared:                       0.896\n",
       "Model:                            OLS   Adj. R-squared:                  0.894\n",
       "Method:                 Least Squares   F-statistic:                     652.1\n",
       "Date:                Wed, 15 May 2019   Prob (F-statistic):           2.61e-75\n",
       "Time:                        14:34:35   Log-Likelihood:                -298.86\n",
       "No. Observations:                 155   AIC:                             603.7\n",
       "Df Residuals:                     152   BIC:                             612.9\n",
       "Df Model:                           2                                         \n",
       "Covariance Type:            nonrobust                                         \n",
       "==============================================================================\n",
       "                 coef    std err          t      P>|t|      [0.025      0.975]\n",
       "------------------------------------------------------------------------------\n",
       "Intercept      2.9151      0.342      8.514      0.000       2.239       3.592\n",
       "TV             0.0451      0.002     28.136      0.000       0.042       0.048\n",
       "Radio          0.1922      0.009     20.884      0.000       0.174       0.210\n",
       "==============================================================================\n",
       "Omnibus:                       65.651   Durbin-Watson:                   2.312\n",
       "Prob(Omnibus):                  0.000   Jarque-Bera (JB):              228.456\n",
       "Skew:                          -1.624   Prob(JB):                     2.46e-50\n",
       "Kurtosis:                       7.982   Cond. No.                         444.\n",
       "==============================================================================\n",
       "\n",
       "Warnings:\n",
       "[1] Standard Errors assume that the covariance matrix of the errors is correctly specified.\n",
       "\"\"\""
      ]
     },
     "execution_count": 8,
     "metadata": {},
     "output_type": "execute_result"
    }
   ],
   "source": [
    "lm.summary()"
   ]
  },
  {
   "cell_type": "markdown",
   "metadata": {},
   "source": [
    "###### sales = 2.9151 + (0.0451 * TV )+ (0.1922 * Radio)"
   ]
  },
  {
   "cell_type": "markdown",
   "metadata": {},
   "source": [
    "### Validación del modelo con el conjunto de testing"
   ]
  },
  {
   "cell_type": "code",
   "execution_count": 10,
   "metadata": {},
   "outputs": [
    {
     "data": {
      "text/plain": [
       "2      12.512928\n",
       "6      11.814011\n",
       "7      12.106814\n",
       "9      12.432009\n",
       "11     17.217361\n",
       "13      8.776038\n",
       "22      6.566661\n",
       "26     14.995551\n",
       "28     19.352131\n",
       "37     15.780645\n",
       "44      8.987199\n",
       "46      8.866054\n",
       "51      9.291301\n",
       "52     20.695872\n",
       "56      8.645121\n",
       "60      5.713990\n",
       "64     17.057586\n",
       "67     11.988645\n",
       "68     18.914511\n",
       "70     17.781777\n",
       "76      4.463701\n",
       "78      8.905317\n",
       "81     14.525547\n",
       "87     15.714087\n",
       "90      9.917952\n",
       "98     24.119308\n",
       "112    13.804396\n",
       "120    14.442862\n",
       "122    13.485748\n",
       "125     9.118390\n",
       "127     6.534612\n",
       "131    15.441251\n",
       "132     8.521794\n",
       "135    14.127921\n",
       "137    20.821844\n",
       "138     9.833487\n",
       "142    19.247283\n",
       "148    12.375386\n",
       "161    13.663286\n",
       "165    14.151817\n",
       "182     6.546953\n",
       "183    24.159067\n",
       "185    20.834826\n",
       "187    17.055563\n",
       "192     4.479327\n",
       "dtype: float64"
      ]
     },
     "execution_count": 10,
     "metadata": {},
     "output_type": "execute_result"
    }
   ],
   "source": [
    "sales_pred = lm.predict(testing)\n",
    "sales_pred"
   ]
  },
  {
   "cell_type": "code",
   "execution_count": 11,
   "metadata": {},
   "outputs": [
    {
     "data": {
      "text/plain": [
       "129.0202993896217"
      ]
     },
     "execution_count": 11,
     "metadata": {},
     "output_type": "execute_result"
    }
   ],
   "source": [
    "SSD = sum((testing[\"Sales\"] - sales_pred)**2)\n",
    "SSD"
   ]
  },
  {
   "cell_type": "code",
   "execution_count": 12,
   "metadata": {},
   "outputs": [
    {
     "data": {
      "text/plain": [
       "1.7526870485711612"
      ]
     },
     "execution_count": 12,
     "metadata": {},
     "output_type": "execute_result"
    }
   ],
   "source": [
    "RSE = np.sqrt(SSD/(len(testing)-3))\n",
    "RSE"
   ]
  },
  {
   "cell_type": "code",
   "execution_count": 14,
   "metadata": {},
   "outputs": [
    {
     "data": {
      "text/plain": [
       "0.13237817587395476"
      ]
     },
     "execution_count": 14,
     "metadata": {},
     "output_type": "execute_result"
    }
   ],
   "source": [
    "sales_mean = np.mean(testing[\"Sales\"])\n",
    "error = RSE/sales_mean\n",
    "error"
   ]
  },
  {
   "cell_type": "code",
   "execution_count": 32,
   "metadata": {},
   "outputs": [
    {
     "data": {
      "text/plain": [
       "<matplotlib.axes._subplots.AxesSubplot at 0x27e38422518>"
      ]
     },
     "execution_count": 32,
     "metadata": {},
     "output_type": "execute_result"
    },
    {
     "data": {
      "image/png": "[encoded data removed]",
      "text/plain": [
       "<Figure size 432x288 with 1 Axes>"
      ]
     },
     "metadata": {
      "needs_background": "light"
     },
     "output_type": "display_data"
    }
   ],
   "source": [
    "%matplotlib inline\n",
    "data.plot(kind = \"scatter\", x = \"TV\", y = \"Sales\")\n",
    "#plt.plot(pd.DataFrame(data[\"TV\"]), sales_pred, c='red', linewidth = 2)"
   ]
  },
  {
   "cell_type": "code",
   "execution_count": null,
   "metadata": {},
   "outputs": [],
   "source": [
    "from Ipython.display import Image\n"
   ]
  }
 ],
 "metadata": {
  "kernelspec": {
   "display_name": "Python 3",
   "language": "python",
   "name": "python3"
  },
  "language_info": {
   "codemirror_mode": {
    "name": "ipython",
    "version": 3
   },
   "file_extension": ".py",
   "mimetype": "text/x-python",
   "name": "python",
   "nbconvert_exporter": "python",
   "pygments_lexer": "ipython3",
   "version": "3.7.3"
  }
 },
 "nbformat": 4,
 "nbformat_minor": 2
}
