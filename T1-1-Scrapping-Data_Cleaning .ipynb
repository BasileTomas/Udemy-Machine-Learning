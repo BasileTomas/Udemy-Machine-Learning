{
 "cells": [
  {
   "cell_type": "markdown",
   "metadata": {},
   "source": [
    "# Importar datos de una URL"
   ]
  },
  {
   "cell_type": "code",
   "execution_count": 23,
   "metadata": {},
   "outputs": [],
   "source": [
    "medals_url = \"http://winterolympicsmedals.com/medals.csv\""
   ]
  },
  {
   "cell_type": "code",
   "execution_count": 24,
   "metadata": {},
   "outputs": [],
   "source": [
    "import pandas as pd\n",
    "import os"
   ]
  },
  {
   "cell_type": "code",
   "execution_count": 25,
   "metadata": {},
   "outputs": [],
   "source": [
    "def downloadFromURL(url, filename = 'nombre_random', split = \",\"):\n",
    "    # Hago la conexion con la url y los datos\n",
    "    import urllib3\n",
    "    http = urllib3.PoolManager()\n",
    "    r = http.request('GET', url)\n",
    "    if (r.status == 200):\n",
    "        print(\"El estado de la respuesta es: Correcto.\")\n",
    "    else:\n",
    "        print(\"Revise la conexion.\")\n",
    "    response = r.data\n",
    "\n",
    "    # Convierto el objeto response (binario) a str\n",
    "    str_data = response.decode('utf-8')\n",
    "\n",
    "    # Divido al string en array de filas y lo separo\n",
    "    lines = str_data.split(\"\\n\")\n",
    "\n",
    "    # La primer línea constiene la cabezera asi que la separo por ','\n",
    "    col_names = lines[0].split(split)\n",
    "    n_cols = len(col_names)\n",
    "\n",
    "    # Genero un diccionario donde colocaré la información\n",
    "    counter = 0\n",
    "    main_dict = {}\n",
    "    for col in col_names:\n",
    "        main_dict[col] = []\n",
    "\n",
    "    # Proceso fila a fila la informacion y relleno el diccionario\n",
    "    for line in lines:\n",
    "        # Me salteo la primer linea ya que es la cabezera\n",
    "        if(counter > 0):\n",
    "            # Divido cada string con comas de separador\n",
    "            values = line.strip().split(split)\n",
    "            # Añado cada valor correspondiente a la columna\n",
    "            for i in range(len(col_names)):\n",
    "                main_dict[col_names[i]].append(values[i])\n",
    "        counter += 1\n",
    "\n",
    "    print(\"El data set tiene %d filas y %d columnas\"%(counter, n_cols),'\\n')\n",
    "\n",
    "\n",
    "    # Convierto el diccionario a un Data frame y muestro el Head\n",
    "    medals_df = pd.DataFrame(main_dict)\n",
    "    medals_df.head()\n",
    "    print(medals_df.head())\n",
    "    \n",
    "    # Guardo el archivo en alguna carpeta \n",
    "    mainpath = '../archivos/'\n",
    "    filename = filename\n",
    "    fullpath = os.path.join(mainpath, filename)\n",
    "\n",
    "    # Lo guardo en distintos formatos\n",
    "    medals_df.to_csv(fullpath + \".csv\")\n",
    "    medals_df.to_json(fullpath + \".json\")\n",
    "    \n",
    "    print(\"Los ficheros fueron guardados correctamente en \"+ fullpath)"
   ]
  },
  {
   "cell_type": "code",
   "execution_count": 26,
   "metadata": {},
   "outputs": [
    {
     "name": "stdout",
     "output_type": "stream",
     "text": [
      "El estado de la respuesta es: Correcto.\n",
      "El data set tiene 2312 filas y 8 columnas \n",
      "\n",
      "   Year      City       Sport      Discipline  NOC       Event Event gender  \\\n",
      "0  1924  Chamonix     Skating  Figure skating  AUT  individual            M   \n",
      "1  1924  Chamonix     Skating  Figure skating  AUT  individual            W   \n",
      "2  1924  Chamonix     Skating  Figure skating  AUT       pairs            X   \n",
      "3  1924  Chamonix   Bobsleigh       Bobsleigh  BEL    four-man            M   \n",
      "4  1924  Chamonix  Ice Hockey      Ice Hockey  CAN  ice hockey            M   \n",
      "\n",
      "    Medal  \n",
      "0  Silver  \n",
      "1    Gold  \n",
      "2    Gold  \n",
      "3  Bronze  \n",
      "4    Gold  \n",
      "Los ficheros fueron guardados correctamente en../archivos/nombre_random\n"
     ]
    }
   ],
   "source": [
    "downloadFromURL(medals_url)"
   ]
  }
 ],
 "metadata": {
  "kernelspec": {
   "display_name": "Python 3",
   "language": "python",
   "name": "python3"
  },
  "language_info": {
   "codemirror_mode": {
    "name": "ipython",
    "version": 3
   },
   "file_extension": ".py",
   "mimetype": "text/x-python",
   "name": "python",
   "nbconvert_exporter": "python",
   "pygments_lexer": "ipython3",
   "version": "3.7.4"
  }
 },
 "nbformat": 4,
 "nbformat_minor": 2
}
